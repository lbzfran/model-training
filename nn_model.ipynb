{
 "cells": [
  {
   "cell_type": "markdown",
   "metadata": {},
   "source": [
    "# Lab 8: Define and Solve an ML Problem of Your Choosing"
   ]
  },
  {
   "cell_type": "code",
   "execution_count": 1,
   "metadata": {},
   "outputs": [],
   "source": [
    "import pandas as pd\n",
    "import numpy as np\n",
    "import os \n",
    "import matplotlib.pyplot as plt\n",
    "import seaborn as sns"
   ]
  },
  {
   "cell_type": "markdown",
   "metadata": {},
   "source": [
    "In this lab assignment, you will follow the machine learning life cycle and implement a model to solve a machine learning problem of your choosing. You will select a data set and choose a predictive problem that the data set supports.  You will then inspect the data with your problem in mind and begin to formulate a  project plan. You will then implement the machine learning project plan. \n",
    "\n",
    "You will complete the following tasks:\n",
    "\n",
    "1. Build Your DataFrame\n",
    "2. Define Your ML Problem\n",
    "3. Perform exploratory data analysis to understand your data.\n",
    "4. Define Your Project Plan\n",
    "5. Implement Your Project Plan:\n",
    "    * Prepare your data for your model.\n",
    "    * Fit your model to the training data and evaluate your model.\n",
    "    * Improve your model's performance."
   ]
  },
  {
   "cell_type": "markdown",
   "metadata": {},
   "source": [
    "## Part 1: Build Your DataFrame\n",
    "\n",
    "You will have the option to choose one of four data sets that you have worked with in this program:\n",
    "\n",
    "* The \"census\" data set that contains Census information from 1994: `censusData.csv`\n",
    "* Airbnb NYC \"listings\" data set: `airbnbListingsData.csv`\n",
    "* World Happiness Report (WHR) data set: `WHR2018Chapter2OnlineData.csv`\n",
    "* Book Review data set: `bookReviewsData.csv`\n",
    "\n",
    "Note that these are variations of the data sets that you have worked with in this program. For example, some do not include some of the preprocessing necessary for specific models. \n",
    "\n",
    "#### Load a Data Set and Save it as a Pandas DataFrame\n",
    "\n",
    "The code cell below contains filenames (path + filename) for each of the four data sets available to you.\n",
    "\n",
    "<b>Task:</b> In the code cell below, use the same method you have been using to load the data using `pd.read_csv()` and save it to DataFrame `df`. \n",
    "\n",
    "You can load each file as a new DataFrame to inspect the data before choosing your data set."
   ]
  },
  {
   "cell_type": "code",
   "execution_count": 2,
   "metadata": {},
   "outputs": [
    {
     "data": {
      "text/html": [
       "<div>\n",
       "<style scoped>\n",
       "    .dataframe tbody tr th:only-of-type {\n",
       "        vertical-align: middle;\n",
       "    }\n",
       "\n",
       "    .dataframe tbody tr th {\n",
       "        vertical-align: top;\n",
       "    }\n",
       "\n",
       "    .dataframe thead th {\n",
       "        text-align: right;\n",
       "    }\n",
       "</style>\n",
       "<table border=\"1\" class=\"dataframe\">\n",
       "  <thead>\n",
       "    <tr style=\"text-align: right;\">\n",
       "      <th></th>\n",
       "      <th>Review</th>\n",
       "      <th>Positive Review</th>\n",
       "    </tr>\n",
       "  </thead>\n",
       "  <tbody>\n",
       "    <tr>\n",
       "      <th>0</th>\n",
       "      <td>This was perhaps the best of Johannes Steinhof...</td>\n",
       "      <td>True</td>\n",
       "    </tr>\n",
       "    <tr>\n",
       "      <th>1</th>\n",
       "      <td>This very fascinating book is a story written ...</td>\n",
       "      <td>True</td>\n",
       "    </tr>\n",
       "    <tr>\n",
       "      <th>2</th>\n",
       "      <td>The four tales in this collection are beautifu...</td>\n",
       "      <td>True</td>\n",
       "    </tr>\n",
       "    <tr>\n",
       "      <th>3</th>\n",
       "      <td>The book contained more profanity than I expec...</td>\n",
       "      <td>False</td>\n",
       "    </tr>\n",
       "    <tr>\n",
       "      <th>4</th>\n",
       "      <td>We have now entered a second time of deep conc...</td>\n",
       "      <td>True</td>\n",
       "    </tr>\n",
       "  </tbody>\n",
       "</table>\n",
       "</div>"
      ],
      "text/plain": [
       "                                              Review  Positive Review\n",
       "0  This was perhaps the best of Johannes Steinhof...             True\n",
       "1  This very fascinating book is a story written ...             True\n",
       "2  The four tales in this collection are beautifu...             True\n",
       "3  The book contained more profanity than I expec...            False\n",
       "4  We have now entered a second time of deep conc...             True"
      ]
     },
     "execution_count": 2,
     "metadata": {},
     "output_type": "execute_result"
    }
   ],
   "source": [
    "# File names of the four data sets\n",
    "adultDataSet_filename = os.path.join(os.getcwd(), \"data\", \"censusData.csv\")\n",
    "airbnbDataSet_filename = os.path.join(os.getcwd(), \"data\", \"airbnbListingsData.csv\")\n",
    "WHRDataSet_filename = os.path.join(os.getcwd(), \"data\", \"WHR2018Chapter2OnlineData.csv\")\n",
    "bookReviewDataSet_filename = os.path.join(os.getcwd(), \"data\", \"bookReviewsData.csv\")\n",
    "\n",
    "\n",
    "df = pd.read_csv(bookReviewDataSet_filename, header=0)\n",
    "\n",
    "df.head()"
   ]
  },
  {
   "cell_type": "markdown",
   "metadata": {},
   "source": [
    "## Part 2: Define Your ML Problem\n",
    "\n",
    "Next you will formulate your ML Problem. In the markdown cell below, answer the following questions:\n",
    "\n",
    "1. List the data set you have chosen.\n",
    "2. What will you be predicting? What is the label?\n",
    "3. Is this a supervised or unsupervised learning problem? Is this a clustering, classification or regression problem? Is it a binary classificaiton or multi-class classifiction problem?\n",
    "4. What are your features? (note: this list may change after your explore your data)\n",
    "5. Explain why this is an important problem. In other words, how would a company create value with a model that predicts this label?"
   ]
  },
  {
   "cell_type": "markdown",
   "metadata": {},
   "source": [
    "I will be predicting whether a given review is positive or negative. This is a supervised, binary classification given the nature of choosing between positive and negative. My only feature are the reviews, which are long texts. This problem is valuable because it allows a company to filter out reviews based on what they require for a given context. For example, maybe they want to highlight certain positive reviews, or take closer look at negative reviews."
   ]
  },
  {
   "cell_type": "markdown",
   "metadata": {},
   "source": [
    "## Part 3: Understand Your Data\n",
    "\n",
    "The next step is to perform exploratory data analysis. Inspect and analyze your data set with your machine learning problem in mind. Consider the following as you inspect your data:\n",
    "\n",
    "1. What data preparation techniques would you like to use? These data preparation techniques may include:\n",
    "\n",
    "    * addressing missingness, such as replacing missing values with means\n",
    "    * finding and replacing outliers\n",
    "    * renaming features and labels\n",
    "    * finding and replacing outliers\n",
    "    * performing feature engineering techniques such as one-hot encoding on categorical features\n",
    "    * selecting appropriate features and removing irrelevant features\n",
    "    * performing specific data cleaning and preprocessing techniques for an NLP problem\n",
    "    * addressing class imbalance in your data sample to promote fair AI\n",
    "    \n",
    "\n",
    "2. What machine learning model (or models) you would like to use that is suitable for your predictive problem and data?\n",
    "    * Are there other data preparation techniques that you will need to apply to build a balanced modeling data set for your problem and model? For example, will you need to scale your data?\n",
    " \n",
    " \n",
    "3. How will you evaluate and improve the model's performance?\n",
    "    * Are there specific evaluation metrics and methods that are appropriate for your model?\n",
    "    \n",
    "\n",
    "Think of the different techniques you have used to inspect and analyze your data in this course. These include using Pandas to apply data filters, using the Pandas `describe()` method to get insight into key statistics for each column, using the Pandas `dtypes` property to inspect the data type of each column, and using Matplotlib and Seaborn to detect outliers and visualize relationships between features and labels. If you are working on a classification problem, use techniques you have learned to determine if there is class imbalance.\n",
    "\n",
    "<b>Task</b>: Use the techniques you have learned in this course to inspect and analyze your data. You can import additional packages that you have used in this course that you will need to perform this task.\n",
    "\n",
    "<b>Note</b>: You can add code cells if needed by going to the <b>Insert</b> menu and clicking on <b>Insert Cell Below</b> in the drop-drown menu."
   ]
  },
  {
   "cell_type": "code",
   "execution_count": 3,
   "metadata": {},
   "outputs": [],
   "source": [
    "\"\"\"\n",
    "The main focus for preprocessing will be tokenizing and specific cleanup related to NLP.\n",
    "\n",
    "Since the nature of the problem involves sentiment analysis, \n",
    "I will be focused on creating a Deep Neural Network (DNN).\n",
    "\n",
    "The dataset provided is relatively simple, and does not require\n",
    "a deeper dive into datatypes or transformation since i\n",
    "\n",
    "all new imports will be added in this cell:\n",
    "\"\"\"\n",
    "from sklearn.feature_extraction.text import TfidfVectorizer\n",
    "from sklearn.model_selection import train_test_split\n",
    "\n",
    "import random"
   ]
  },
  {
   "cell_type": "code",
   "execution_count": 4,
   "metadata": {},
   "outputs": [],
   "source": [
    "# defining the feature and label\n",
    "y = df['Positive Review']\n",
    "X = df['Review']\n",
    "\n",
    "X_train, X_test, y_train, y_test = train_test_split(X, y, train_size=0.4)"
   ]
  },
  {
   "cell_type": "code",
   "execution_count": 5,
   "metadata": {},
   "outputs": [
    {
     "name": "stdout",
     "output_type": "stream",
     "text": [
      "(1973,)\n",
      "object\n"
     ]
    }
   ],
   "source": [
    "print(X.shape)\n",
    "print(X.dtypes)"
   ]
  },
  {
   "cell_type": "code",
   "execution_count": 6,
   "metadata": {},
   "outputs": [
    {
     "name": "stdout",
     "output_type": "stream",
     "text": [
      "Review 1: \n",
      "\n",
      " Unfortunately, this book is the sign of what passes for humour these days. Even though it may have been remotely funny (sometimes the author comes close to being bearable), the book never actually tries to be. \n",
      "\n",
      "Humour is supposed to be smart. However, this book gives us the worst case of dumb\n",
      "\n",
      "Review 2: \n",
      "\n",
      " As the name implies, this is about the elements of programming style. The examples are a bit dated (old languages, not C/C++/Java/the-next-great-language). But this isn't a *language* programming book, it is about how to write good programs in any language\n",
      "\n",
      "Review 3: \n",
      "\n",
      " As the name implies, this is about the elements of programming style. The examples are a bit dated (old languages, not C/C++/Java/the-next-great-language). But this isn't a *language* programming book, it is about how to write good programs in any language\n",
      "\n"
     ]
    }
   ],
   "source": [
    "for i in range(3):\n",
    "    print(f'Review {i+1}: \\n\\n', X[random.randint(0,25)])"
   ]
  },
  {
   "cell_type": "markdown",
   "metadata": {},
   "source": [
    "## Part 4: Define Your Project Plan\n",
    "\n",
    "Now that you understand your data, in the markdown cell below, define your plan to implement the remaining phases of the machine learning life cycle (data preparation, modeling, evaluation) to solve your ML problem. Answer the following questions:\n",
    "\n",
    "* Do you have a new feature list? If so, what are the features that you chose to keep and remove after inspecting the data? \n",
    "* Explain different data preparation techniques that you will use to prepare your data for modeling.\n",
    "* What is your model (or models)?\n",
    "* Describe your plan to train your model, analyze its performance and then improve the model. That is, describe your model building, validation and selection plan to produce a model that generalizes well to new data. "
   ]
  },
  {
   "cell_type": "markdown",
   "metadata": {},
   "source": [
    "I will be using a fitted tfidf_vectorizer to transform the test and training \n",
    "set to their numerical representations. \n",
    "\n",
    "The model I will be using for this project is a DAN, although\n",
    "I did see an implementation of Logistic Regression model in\n",
    "one of the previous activities, so I will attempt to also utilize\n",
    "Logistic Regression here.\n",
    "Generally though, DAN is the way to go for this problem.\n",
    "\n",
    "I will be creating a DAN with 5 hidden layers, and 4 dropout layers. \n",
    "The number I have chosen here is not particularly important, and I will be adjusting it as I see fit.\n",
    "I will use SGD as the optimization function, and using\n",
    "keras.losses.BinaryCrossentropy for the loss function.\n",
    "Finally, I'll plot the training and validation loss, and use these\n",
    "values as a measure for how well the model is performing.\n",
    "\n",
    "There is an option to choose Logistic Regression instead, and I've left hyperparameter numbers\n",
    "that I saw fit best for the given data set, avoiding as much overfitting or underfitting \n",
    "as possible for either models.\n",
    "For this model, I have opted to plot a precision-recall curve of the prediction to estimate\n",
    "how well the model is performing."
   ]
  },
  {
   "cell_type": "markdown",
   "metadata": {},
   "source": [
    "## Part 5: Implement Your Project Plan\n",
    "\n",
    "<b>Task:</b> In the code cell below, import additional packages that you have used in this course that you will need to implement your project plan."
   ]
  },
  {
   "cell_type": "code",
   "execution_count": null,
   "metadata": {},
   "outputs": [],
   "source": [
    "# imports are done below"
   ]
  },
  {
   "cell_type": "markdown",
   "metadata": {},
   "source": [
    "<b>Task:</b> Use the rest of this notebook to carry out your project plan. \n",
    "\n",
    "You will:\n",
    "\n",
    "1. Prepare your data for your model.\n",
    "2. Fit your model to the training data and evaluate your model.\n",
    "3. Improve your model's performance by performing model selection and/or feature selection techniques to find best model for your problem.\n",
    "\n",
    "Add code cells below and populate the notebook with commentary, code, analyses, results, and figures as you see fit. "
   ]
  },
  {
   "cell_type": "code",
   "execution_count": 7,
   "metadata": {},
   "outputs": [],
   "source": [
    "dan_model = None\n",
    "logr_model = None\n",
    "\n",
    "### MODEL TO USE ###\n",
    "# 0 = dan model\n",
    "# 1 = logistic regression\n",
    "chosen_model = 1\n",
    "\n",
    "### HYPERPARAMETERS CONTROL ###\n",
    "\n",
    "## General\n",
    "# vectorizer parameter control\n",
    "min_df = 100\n",
    "max_df = 10000\n",
    "\n",
    "## LOGISTIC REGRESSION\n",
    "max_iter = 1000\n",
    "C = 2\n",
    "\n",
    "## DAN\n",
    "# determines number of hidden layers (8, 16, 32, 64)\n",
    "layer_units = [64,64,64,32,32]\n",
    "# determines number of filters. (# of filters == # of hidden layers) \n",
    "# (True or False)\n",
    "filters = [True, False, True, True, False]\n",
    "# 0.1-0.5\n",
    "drop_rate = 0.25\n",
    "# optimizer function (0.001-0.5)\n",
    "learning_rate = 0.25\n",
    "\n",
    "# num of epochs\n",
    "num_epochs = 75"
   ]
  },
  {
   "cell_type": "code",
   "execution_count": 8,
   "metadata": {},
   "outputs": [
    {
     "name": "stdout",
     "output_type": "stream",
     "text": [
      "Vocabulary size 130: \n",
      "[('when', 119), ('first', 30), ('to', 107), ('all', 2), ('the', 91), ('of', 71), ('in', 46), ('was', 113), ('better', 16), ('for', 31), ('that', 89), ('by', 21), ('her', 41), ('book', 17), ('am', 4), ('more', 64), ('than', 88), ('this', 101), ('which', 120), ('me', 63), ('and', 6), ('way', 114), ('life', 59), ('so', 84), ('from', 33), ('very', 112), ('also', 3), ('you', 128), ('make', 61), ('an', 5), ('have', 39), ('my', 67), ('most', 65), ('will', 122), ('of the', 72), ('this book', 102), ('to the', 109), ('and the', 7), ('not', 70), ('just', 57), ('but', 20), ('they', 99), ('are', 9), ('much', 66), ('his', 42), ('into', 49), ('it', 53), ('is', 50), ('after', 1), ('then', 96)]\n",
      "\n",
      "[[0.         0.         0.07956584 ... 0.         0.1504849  0.        ]\n",
      " [0.         0.08524911 0.         ... 0.         0.05654026 0.08549642]\n",
      " [0.05538943 0.07883854 0.16587905 ... 0.         0.         0.        ]\n",
      " ...\n",
      " [0.         0.         0.         ... 0.         0.         0.        ]\n",
      " [0.         0.         0.         ... 0.         0.         0.        ]\n",
      " [0.         0.         0.15872899 ... 0.         0.         0.        ]]\n"
     ]
    }
   ],
   "source": [
    "# create TfidfVectorizer\n",
    "vectorizer = TfidfVectorizer(min_df=min_df or 1, max_df=max_df or 99999, ngram_range=(1,2))\n",
    "\n",
    "# transform data into numeric vectors\n",
    "vectorizer.fit(X_train)\n",
    "\n",
    "print(\"Vocabulary size {0}: \".format(len(vectorizer.vocabulary_)))\n",
    "print(str(list(vectorizer.vocabulary_.items())[0:50])+'\\n')\n",
    "\n",
    "# transform both training and test data\n",
    "X_train_tfidf = vectorizer.transform(X_train)\n",
    "X_test_tfidf = vectorizer.transform(X_test)\n",
    "\n",
    "# printing matrix\n",
    "print(X_train_tfidf.todense())\n",
    "\n",
    "# storing the size to use as the `input_shape` of the DAN.\n",
    "vocab_size = len(vectorizer.vocabulary_)"
   ]
  },
  {
   "cell_type": "code",
   "execution_count": 9,
   "metadata": {},
   "outputs": [],
   "source": [
    "# deep averaging network\n",
    "if chosen_model == 0:\n",
    "    import tensorflow.keras as keras\n",
    "    import time\n",
    "\n",
    "    dan_model = keras.Sequential()\n",
    "\n",
    "    input_layer = keras.layers.InputLayer(input_shape=vocab_size)\n",
    "    dan_model.add(input_layer)\n",
    "\n",
    "    for i in range(len(layer_units)-1):\n",
    "        dan_model.add(keras.layers.Dense(units=layer_units[i], activation='relu'))\n",
    "        if filters[i]:\n",
    "            dan_model.add(keras.layers.Dropout(drop_rate))\n",
    "                      \n",
    "    output_layer = keras.layers.Dense(units=1, activation='sigmoid')\n",
    "    dan_model.add(output_layer)\n",
    "\n",
    "    dan_model.summary()\n",
    "\n",
    "    sgd_optimizer = keras.optimizers.SGD(learning_rate=learning_rate)\n",
    "    loss_fn = keras.losses.BinaryCrossentropy(from_logits=False)\n",
    "    dan_model.compile(optimizer=sgd_optimizer, loss=loss_fn, metrics=['accuracy'])\n",
    "\n",
    "\n",
    "\n",
    "    # pulled from previous exercises, provided by activity\n",
    "    class ProgBarLoggerNEpochs(keras.callbacks.Callback):\n",
    "    \n",
    "        def __init__(self, num_epochs: int, every_n: int = 50):\n",
    "            self.num_epochs = num_epochs\n",
    "            self.every_n = every_n\n",
    "    \n",
    "        def on_epoch_end(self, epoch, logs=None):\n",
    "            if (epoch + 1) % self.every_n == 0:\n",
    "                s = 'Epoch [{}/ {}]'.format(epoch + 1, self.num_epochs)\n",
    "                logs_s = ['{}: {:.4f}'.format(k.capitalize(), v)\n",
    "                          for k, v in logs.items()]\n",
    "                s_list = [s] + logs_s\n",
    "                print(', '.join(s_list))"
   ]
  },
  {
   "cell_type": "code",
   "execution_count": 10,
   "metadata": {},
   "outputs": [],
   "source": [
    "# logistic regression\n",
    "if chosen_model == 1:\n",
    "    from sklearn.linear_model import LogisticRegression\n",
    "    from sklearn.metrics import roc_auc_score, root_mean_squared_error, r2_score, precision_recall_curve\n",
    "    \n",
    "    lr_model = LogisticRegression(max_iter=max_iter or 200, C=C)\n",
    "    lr_model.fit(X_train_tfidf, y_train)\n",
    "\n",
    "    \n",
    "    probability_predictions = lr_model.predict_proba(X_test_tfidf)[:,1]\n",
    "\n",
    "    class_label_predictions = lr_model.predict(X_test_tfidf)"
   ]
  },
  {
   "cell_type": "code",
   "execution_count": 11,
   "metadata": {},
   "outputs": [],
   "source": [
    "# Data\n",
    "if dan_model:\n",
    "    t0 = time.time()\n",
    "    \n",
    "    history = dan_model.fit(X_train_tfidf.toarray(), y_train,\n",
    "                            epochs=num_epochs,\n",
    "                            verbose=0,\n",
    "                            validation_split=0.15,\n",
    "                            callbacks=[ProgBarLoggerNEpochs(num_epochs, every_n=5)],\n",
    "                           )\n",
    "    t1 = time.time()\n",
    "    print('Elapsed time: %.2fs' % (t1-t0))\n",
    "\n",
    "    probability_predictions = dan_model.predict(X_test_tfidf.toarray())\n",
    "    \n",
    "    loss, accuracy = dan_model.evaluate(X_test_tfidf.toarray(), y_test)\n",
    "\n",
    "elif lr_model:\n",
    "    auc = roc_auc_score(y_test, probability_predictions)\n",
    "    examples = list(vectorizer.vocabulary_.items())[0:3]\n",
    "    stop_words = list(vectorizer.stop_words_)[0:3]\n",
    "\n",
    "    precision, recall, thresholds = precision_recall_curve(y_test, probability_predictions)\n",
    "\n",
    "    #lr_rmse = root_mean_squared_error(y_test, class_label_predictions)\n",
    "    #lr_r2 = r2_score(y_test, class_label_predictions)"
   ]
  },
  {
   "cell_type": "code",
   "execution_count": 12,
   "metadata": {},
   "outputs": [
    {
     "name": "stdout",
     "output_type": "stream",
     "text": [
      "Logistic Regression Check\n",
      "\n",
      "AUC on test data: 0.7928235882058972\n",
      "size of feature space: 130\n",
      "first three entries of words mapped to col/feature idx: \n",
      "[('when', 119), ('first', 30), ('to', 107)]\n",
      "first 3 stop words that are ignored: \n",
      "['take her', 'fuhrman fasting', 'my ideal']\n",
      "Review #1:\n",
      "\n",
      "A lot of very useful info in a small book.  I'm less than half the way through and I've already learned enough to make it worth the investment to me.  The chapter on Using Tables was just what I needed. I would recommend this book to other beginners who are still trying to make sense of it all\n",
      "\n",
      "\n",
      "pred: is the review GOOD? False\n",
      "\n",
      "actual: is the review actually GOOD? True\n",
      "\n",
      "Review #2:\n",
      "\n",
      "What a great upbeat book that still covers the struggles of a child of a divorced family, living in poverty, and being of a mixed race.  Great great read with a great ending that wasn't to unbelievable.  It left you with a good feeling even though the struggles of the children were very real.  Great life lessons as well as cultural lessons in this book\n",
      "\n",
      "\n",
      "pred: is the review GOOD? True\n",
      "\n",
      "actual: is the review actually GOOD? True\n",
      "\n",
      "Review #3:\n",
      "\n",
      "Good, but it simply wasn't actionous enough. I don't mind having no action in a book (otherwise how else could I love Foundation so much?), but Children was a book that NEEDED to have action in it. Unfortunately it didn't really. Too much philosophical babble that I had to re-read to get it. Slightly reminiscent of Card's later Shadow series with the sheer amount of internal monologue. Too much about Jane, not enough about the pequeninos and barely anything about Ender, which annoyed me. To my shock Ender's death did not really impact me in any way, beyond--\"Huh? Wait...Ender is dead?\", so little was his role in the book. He probably talked for only about twelve pages altogether.\n",
      "\n",
      "EDIT: From now on I am never giving a book that I halfway like two stars again because each time, I receive the urge to change my rating to three stars.  Just keep in mind that while it says two, it means three\n",
      "\n",
      "\n",
      "pred: is the review GOOD? False\n",
      "\n",
      "actual: is the review actually GOOD? False\n",
      "\n",
      "Review #4:\n",
      "\n",
      "I agree with some of the negative reviews that the Junie B. Jones books often use language and depict behavior that are less than desirable.  My son, who is a pretty sensitive boy, didn't like Junie B. Jones because he thought she was rude.  I would much prefer that my kids read books with kids who, though they may get in trouble from time to time or may make mistakes, are generally nice people.  We did love the Magic Tree House series, both for the adventure and the personalities of Jack and Annie\n",
      "\n",
      "\n",
      "pred: is the review GOOD? False\n",
      "\n",
      "actual: is the review actually GOOD? False\n",
      "\n",
      "Review #5:\n",
      "\n",
      "\"The number\" poses an interesting question but provides no helpful answers. A four percent draw on invested assets is as much an old wives' tale as a piece of scientific wisdom, even if it is a number. Eisenberg's number is the inverse of that draw down, or twenty-five times.... well, there's the rub, twenty-five times what? income? expenses? income less savings? projected discretionary spending? Post-mortgage payoff and college tuition expenses? The proverbial bottom line is clouded by conversations with an eclectic collection of consultants, experts, philosophers, and casual acquaintances. Eisenberg, a former Esquire editor and short-timer with Lands End, ruminates about a simple question: How much money do you need to feel secure? The problem is that security comes in multiple forms: happiness, comfort, excess consumption, ego. And the accuracy and stability of those measures and outcomes is compounded by key assumptions about how long you will live and how healthy those years will be. Constructing a one-year budget is hard enough. Constructing a thirty-year budget is nearly impossible.\n",
      "\n",
      "Eisenberg doesn't help his case by the offbeat and idiosyncratic examples and profiles he chooses. Doctors, divorcees, `downshifters', and very little real data shed little light on the real issues. Maybe I knew too much going in. Maybe I expected too much from a few positive references from other sources. In the middle I was confused. By the end I was simply disappointed. And I have my own number, and it changes every day\n",
      "\n",
      "\n",
      "pred: is the review GOOD? True\n",
      "\n",
      "actual: is the review actually GOOD? False\n",
      "\n"
     ]
    }
   ],
   "source": [
    "# comparison\n",
    "if dan_model:\n",
    "    print('Deep Averaging Network Check\\n')\n",
    "    print(f'Loss: {loss}\\nAccuracy: {accuracy}')\n",
    "\n",
    "    review_nums = [random.randint(0,200) for x in range(5)]\n",
    "    for i in range(5):\n",
    "        print(f'Review #{i+1}:\\n')\n",
    "        print(X_test.to_numpy()[review_nums[i]] + '\\n')\n",
    "\n",
    "        print(f'pred: is the review GOOD? {True if probability_predictions[review_nums[i]] >= .5 else False}\\n') \n",
    "\n",
    "        print(f'actual: is the review actually GOOD? {y_test.to_numpy()[review_nums[i]]}\\n')\n",
    "        \n",
    "elif lr_model:\n",
    "\n",
    "    print('Logistic Regression Check\\n')\n",
    "    print(f'AUC on test data: {auc}')\n",
    "    #print(f'[LR] Root Mean Squared Error: {lr_rmse}')\n",
    "    #print(f'[LR] R2: {lr_r2}')\n",
    "    print(f'size of feature space: {vocab_size}')\n",
    "    print(f'first three entries of words mapped to col/feature idx: \\n{examples}')\n",
    "    print(f'first 3 stop words that are ignored: \\n{stop_words}')\n",
    "\n",
    "    review_nums = [random.randint(0,200) for x in range(5)]\n",
    "    \n",
    "    for i in range(5):\n",
    "        print(f'Review #{i+1}:\\n')\n",
    "        print(X_test.to_numpy()[review_nums[i]] + '\\n')\n",
    "\n",
    "        print(f'pred: is the review GOOD? {class_label_predictions[review_nums[i]]}\\n') \n",
    "\n",
    "        print(f'actual: is the review actually GOOD? {y_test.to_numpy()[review_nums[i]]}\\n')"
   ]
  },
  {
   "cell_type": "code",
   "execution_count": 13,
   "metadata": {},
   "outputs": [
    {
     "data": {
      "image/png": "[encoded data removed]",
      "text/plain": [
       "<Figure size 640x480 with 1 Axes>"
      ]
     },
     "metadata": {},
     "output_type": "display_data"
    }
   ],
   "source": [
    "if dan_model:\n",
    "    # Plot training and validation loss\n",
    "    plt.plot(range(1, num_epochs + 1), history.history['loss'], label='Training Loss')\n",
    "    plt.plot(range(1, num_epochs + 1), history.history['val_loss'], label='Validation Loss')\n",
    "\n",
    "    plt.xlabel('Epoch')\n",
    "    plt.ylabel('Loss')\n",
    "    plt.legend()\n",
    "    plt.show()\n",
    "\n",
    "\n",
    "    # Plot training and validation accuracy\n",
    "    plt.plot(range(1, num_epochs + 1), history.history['accuracy'], label='Training Accuracy')\n",
    "    plt.plot(range(1, num_epochs + 1), history.history['val_accuracy'], label='Validation Accuracy')\n",
    "\n",
    "    plt.xlabel('Epoch')\n",
    "    plt.ylabel('Accuracy')\n",
    "    plt.legend()\n",
    "    plt.show()\n",
    "elif lr_model:\n",
    "\n",
    "\n",
    "    fig = plt.figure()\n",
    "    ax = fig.add_subplot(111)\n",
    "\n",
    "   \n",
    "    p = sns.lineplot(x=recall, y=precision, color='red', marker='o', label='lr')\n",
    "\n",
    "    plt.title(\"Precision-recall curve\")\n",
    "    plt.xlabel(\"Recall\")\n",
    "    plt.ylabel(\"Precision\")\n",
    "    plt.show()"
   ]
  },
  {
   "cell_type": "code",
   "execution_count": null,
   "metadata": {},
   "outputs": [],
   "source": []
  }
 ],
 "metadata": {
  "kernelspec": {
   "display_name": "Python 3 (ipykernel)",
   "language": "python",
   "name": "python3"
  },
  "language_info": {
   "codemirror_mode": {
    "name": "ipython",
    "version": 3
   },
   "file_extension": ".py",
   "mimetype": "text/x-python",
   "name": "python",
   "nbconvert_exporter": "python",
   "pygments_lexer": "ipython3",
   "version": "3.9.19"
  },
  "toc": {
   "base_numbering": 1,
   "nav_menu": {},
   "number_sections": false,
   "sideBar": true,
   "skip_h1_title": false,
   "title_cell": "Table of Contents",
   "title_sidebar": "Contents",
   "toc_cell": false,
   "toc_position": {},
   "toc_section_display": true,
   "toc_window_display": false
  },
  "varInspector": {
   "cols": {
    "lenName": 16,
    "lenType": 16,
    "lenVar": 40
   },
   "kernels_config": {
    "python": {
     "delete_cmd_postfix": "",
     "delete_cmd_prefix": "del ",
     "library": "var_list.py",
     "varRefreshCmd": "print(var_dic_list())"
    },
    "r": {
     "delete_cmd_postfix": ") ",
     "delete_cmd_prefix": "rm(",
     "library": "var_list.r",
     "varRefreshCmd": "cat(var_dic_list()) "
    }
   },
   "types_to_exclude": [
    "module",
    "function",
    "builtin_function_or_method",
    "instance",
    "_Feature"
   ],
   "window_display": false
  }
 },
 "nbformat": 4,
 "nbformat_minor": 4
}
